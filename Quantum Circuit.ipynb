{
 "cells": [
  {
   "cell_type": "code",
   "execution_count": 1,
   "id": "250371a1",
   "metadata": {},
   "outputs": [],
   "source": [
    "from qiskit import QuantumCircuit, Aer, execute"
   ]
  },
  {
   "cell_type": "code",
   "execution_count": 2,
   "id": "c11e3c08",
   "metadata": {},
   "outputs": [
    {
     "name": "stdout",
     "output_type": "stream",
     "text": [
      "Requirement already satisfied: qiskit-aer in /Applications/anaconda3/lib/python3.11/site-packages (0.12.2)\n",
      "Requirement already satisfied: qiskit-terra>=0.21.0 in /Applications/anaconda3/lib/python3.11/site-packages (from qiskit-aer) (0.25.0)\n",
      "Requirement already satisfied: numpy>=1.16.3 in /Applications/anaconda3/lib/python3.11/site-packages (from qiskit-aer) (1.24.3)\n",
      "Requirement already satisfied: scipy>=1.0 in /Applications/anaconda3/lib/python3.11/site-packages (from qiskit-aer) (1.10.1)\n",
      "Requirement already satisfied: rustworkx>=0.13.0 in /Applications/anaconda3/lib/python3.11/site-packages (from qiskit-terra>=0.21.0->qiskit-aer) (0.13.1)\n",
      "Requirement already satisfied: ply>=3.10 in /Applications/anaconda3/lib/python3.11/site-packages (from qiskit-terra>=0.21.0->qiskit-aer) (3.11)\n",
      "Requirement already satisfied: psutil>=5 in /Applications/anaconda3/lib/python3.11/site-packages (from qiskit-terra>=0.21.0->qiskit-aer) (5.9.0)\n",
      "Requirement already satisfied: sympy>=1.3 in /Applications/anaconda3/lib/python3.11/site-packages (from qiskit-terra>=0.21.0->qiskit-aer) (1.11.1)\n",
      "Requirement already satisfied: dill>=0.3 in /Applications/anaconda3/lib/python3.11/site-packages (from qiskit-terra>=0.21.0->qiskit-aer) (0.3.6)\n",
      "Requirement already satisfied: python-dateutil>=2.8.0 in /Applications/anaconda3/lib/python3.11/site-packages (from qiskit-terra>=0.21.0->qiskit-aer) (2.8.2)\n",
      "Requirement already satisfied: stevedore>=3.0.0 in /Applications/anaconda3/lib/python3.11/site-packages (from qiskit-terra>=0.21.0->qiskit-aer) (5.1.0)\n",
      "Requirement already satisfied: symengine<0.10,>=0.9 in /Applications/anaconda3/lib/python3.11/site-packages (from qiskit-terra>=0.21.0->qiskit-aer) (0.9.2)\n",
      "Requirement already satisfied: six>=1.5 in /Applications/anaconda3/lib/python3.11/site-packages (from python-dateutil>=2.8.0->qiskit-terra>=0.21.0->qiskit-aer) (1.16.0)\n",
      "Requirement already satisfied: pbr!=2.1.0,>=2.0.0 in /Applications/anaconda3/lib/python3.11/site-packages (from stevedore>=3.0.0->qiskit-terra>=0.21.0->qiskit-aer) (5.11.1)\n",
      "Requirement already satisfied: mpmath>=0.19 in /Applications/anaconda3/lib/python3.11/site-packages (from sympy>=1.3->qiskit-terra>=0.21.0->qiskit-aer) (1.2.1)\n",
      "Note: you may need to restart the kernel to use updated packages.\n"
     ]
    }
   ],
   "source": [
    "pip install qiskit-aer"
   ]
  },
  {
   "cell_type": "code",
   "execution_count": 3,
   "id": "4f919ad4",
   "metadata": {},
   "outputs": [
    {
     "name": "stdout",
     "output_type": "stream",
     "text": [
      "Requirement already satisfied: qiskit in /Applications/anaconda3/lib/python3.11/site-packages (0.44.0)\n",
      "Requirement already satisfied: qiskit-terra==0.25.0 in /Applications/anaconda3/lib/python3.11/site-packages (from qiskit) (0.25.0)\n",
      "Requirement already satisfied: rustworkx>=0.13.0 in /Applications/anaconda3/lib/python3.11/site-packages (from qiskit-terra==0.25.0->qiskit) (0.13.1)\n",
      "Requirement already satisfied: numpy>=1.17 in /Applications/anaconda3/lib/python3.11/site-packages (from qiskit-terra==0.25.0->qiskit) (1.24.3)\n",
      "Requirement already satisfied: ply>=3.10 in /Applications/anaconda3/lib/python3.11/site-packages (from qiskit-terra==0.25.0->qiskit) (3.11)\n",
      "Requirement already satisfied: psutil>=5 in /Applications/anaconda3/lib/python3.11/site-packages (from qiskit-terra==0.25.0->qiskit) (5.9.0)\n",
      "Requirement already satisfied: scipy>=1.5 in /Applications/anaconda3/lib/python3.11/site-packages (from qiskit-terra==0.25.0->qiskit) (1.10.1)\n",
      "Requirement already satisfied: sympy>=1.3 in /Applications/anaconda3/lib/python3.11/site-packages (from qiskit-terra==0.25.0->qiskit) (1.11.1)\n",
      "Requirement already satisfied: dill>=0.3 in /Applications/anaconda3/lib/python3.11/site-packages (from qiskit-terra==0.25.0->qiskit) (0.3.6)\n",
      "Requirement already satisfied: python-dateutil>=2.8.0 in /Applications/anaconda3/lib/python3.11/site-packages (from qiskit-terra==0.25.0->qiskit) (2.8.2)\n",
      "Requirement already satisfied: stevedore>=3.0.0 in /Applications/anaconda3/lib/python3.11/site-packages (from qiskit-terra==0.25.0->qiskit) (5.1.0)\n",
      "Requirement already satisfied: symengine<0.10,>=0.9 in /Applications/anaconda3/lib/python3.11/site-packages (from qiskit-terra==0.25.0->qiskit) (0.9.2)\n",
      "Requirement already satisfied: six>=1.5 in /Applications/anaconda3/lib/python3.11/site-packages (from python-dateutil>=2.8.0->qiskit-terra==0.25.0->qiskit) (1.16.0)\n",
      "Requirement already satisfied: pbr!=2.1.0,>=2.0.0 in /Applications/anaconda3/lib/python3.11/site-packages (from stevedore>=3.0.0->qiskit-terra==0.25.0->qiskit) (5.11.1)\n",
      "Requirement already satisfied: mpmath>=0.19 in /Applications/anaconda3/lib/python3.11/site-packages (from sympy>=1.3->qiskit-terra==0.25.0->qiskit) (1.2.1)\n",
      "Note: you may need to restart the kernel to use updated packages.\n"
     ]
    }
   ],
   "source": [
    "pip install qiskit"
   ]
  },
  {
   "cell_type": "code",
   "execution_count": 4,
   "id": "78774e68",
   "metadata": {},
   "outputs": [],
   "source": [
    "# Create a quantum circuit with two qubits\n",
    "circuit = QuantumCircuit(2)"
   ]
  },
  {
   "cell_type": "code",
   "execution_count": 5,
   "id": "321695ef",
   "metadata": {},
   "outputs": [
    {
     "data": {
      "text/plain": [
       "<qiskit.circuit.instructionset.InstructionSet at 0x114e9caf0>"
      ]
     },
     "execution_count": 5,
     "metadata": {},
     "output_type": "execute_result"
    }
   ],
   "source": [
    "# Add H gate on the first qubit\n",
    "circuit.h(0)"
   ]
  },
  {
   "cell_type": "code",
   "execution_count": 6,
   "id": "feee78fa",
   "metadata": {},
   "outputs": [
    {
     "data": {
      "text/plain": [
       "<qiskit.circuit.instructionset.InstructionSet at 0x114e9c640>"
      ]
     },
     "execution_count": 6,
     "metadata": {},
     "output_type": "execute_result"
    }
   ],
   "source": [
    "# Add CNOT gate on the second and third qubits\n",
    "circuit.cx(1, 0)"
   ]
  },
  {
   "cell_type": "code",
   "execution_count": 7,
   "id": "0b35b17d",
   "metadata": {},
   "outputs": [],
   "source": [
    "circuit.measure_all()"
   ]
  },
  {
   "cell_type": "code",
   "execution_count": 8,
   "id": "48d31fdf",
   "metadata": {},
   "outputs": [],
   "source": [
    "job = execute(circuit, Aer.get_backend('qasm_simulator'))"
   ]
  },
  {
   "cell_type": "code",
   "execution_count": 9,
   "id": "2f064b95",
   "metadata": {},
   "outputs": [],
   "source": [
    "result = job.result()"
   ]
  },
  {
   "cell_type": "code",
   "execution_count": 10,
   "id": "e9186c4a",
   "metadata": {},
   "outputs": [
    {
     "name": "stdout",
     "output_type": "stream",
     "text": [
      "Result: {'00': 494, '01': 530}\n"
     ]
    }
   ],
   "source": [
    "print(\"Result:\", result.get_counts(circuit))"
   ]
  },
  {
   "cell_type": "markdown",
   "id": "da8dd1f6",
   "metadata": {},
   "source": [
    "This code creates a new QuantumCircuit called 'circ', with two qubits. It applies an H gate to the first qubit (using the.h method), then uses a CNOT gate to entangle the states of the two qubits (using the.cx method). Finally, it measures all qubits in the circuit using the.measure_all method. The circuit is executed on a local simulator backend (Aer.get_backend('qasm_simulator')). After execution, the results are retrieved using the.get_counts method, which returns a dictionary containing the measurement outcomes for each possible outcome."
   ]
  },
  {
   "cell_type": "code",
   "execution_count": 11,
   "id": "96ea4312",
   "metadata": {},
   "outputs": [],
   "source": [
    "# Execute the circuit on a local simulator\n",
    "simulator = Aer.get_backend('qasm_simulator')\n",
    "result = execute(circuit, backend=simulator).result()"
   ]
  },
  {
   "cell_type": "code",
   "execution_count": 12,
   "id": "582f150d",
   "metadata": {},
   "outputs": [
    {
     "data": {
      "text/plain": [
       "Result(backend_name='qasm_simulator', backend_version='0.12.2', qobj_id='', job_id='91e160ff-1245-4d29-9750-6ad360897b98', success=True, results=[ExperimentResult(shots=1024, success=True, meas_level=2, data=ExperimentResultData(counts={'0x0': 533, '0x1': 491}), header=QobjExperimentHeader(creg_sizes=[['meas', 2]], global_phase=0.0, memory_slots=2, n_qubits=2, name='circuit-120', qreg_sizes=[['q', 2]], metadata={}), status=DONE, seed_simulator=2979222809, metadata={'parallel_state_update': 8, 'parallel_shots': 1, 'sample_measure_time': 0.000293541, 'noise': 'ideal', 'batched_shots_optimization': False, 'remapped_qubits': False, 'device': 'CPU', 'active_input_qubits': [0, 1], 'measure_sampling': True, 'num_clbits': 2, 'input_qubit_map': [[1, 1], [0, 0]], 'num_qubits': 2, 'method': 'stabilizer', 'fusion': {'enabled': False}}, time_taken=0.000612917)], date=2023-09-13T10:50:15.722591, status=COMPLETED, header=None, metadata={'mpi_rank': 0, 'num_mpi_processes': 1, 'num_processes_per_experiments': 1, 'max_gpu_memory_mb': 0, 'time_taken_execute': 0.000624459, 'max_memory_mb': 8192, 'parallel_experiments': 1, 'omp_enabled': True}, time_taken=0.0008590221405029297)"
      ]
     },
     "execution_count": 12,
     "metadata": {},
     "output_type": "execute_result"
    }
   ],
   "source": [
    "result"
   ]
  },
  {
   "cell_type": "code",
   "execution_count": 13,
   "id": "ba4d2744",
   "metadata": {},
   "outputs": [],
   "source": [
    "from qiskit import QuantumRegister, ClassicalRegister, QuantumCircuit"
   ]
  },
  {
   "cell_type": "code",
   "execution_count": 14,
   "id": "5817da1b",
   "metadata": {},
   "outputs": [],
   "source": [
    "qr = QuantumRegister(4)    # Four qubits\n",
    "cr = ClassicalRegister(4)   # Four classical bits"
   ]
  },
  {
   "cell_type": "markdown",
   "id": "1d397509",
   "metadata": {},
   "source": [
    "we define the quantum register qr as having four qubits, and the classical register cr as also having four bits. We use these registries to create a new QuantumCircuit object called circ. Then, we add gates to the circuit by calling methods such as .h() or .x(). When we're done adding gates, we measure the qubits using the.measure method, specifying the quantum and classical registers to be measured. Finally, we call the.draw method to visualize the circuit."
   ]
  },
  {
   "cell_type": "code",
   "execution_count": 15,
   "id": "ea953287",
   "metadata": {},
   "outputs": [
    {
     "data": {
      "text/html": [
       "<pre style=\"word-wrap: normal;white-space: pre;background: #fff0;line-height: 1.1;font-family: &quot;Courier New&quot;,Courier,monospace\">      ┌─┐         \n",
       "q8_0: ┤M├─────────\n",
       "      └╥┘┌─┐      \n",
       "q8_1: ─╫─┤M├──────\n",
       "       ║ └╥┘┌─┐   \n",
       "q8_2: ─╫──╫─┤M├───\n",
       "       ║  ║ └╥┘┌─┐\n",
       "q8_3: ─╫──╫──╫─┤M├\n",
       "       ║  ║  ║ └╥┘\n",
       "c0: 4/═╩══╩══╩══╩═\n",
       "       0  1  2  3 </pre>"
      ],
      "text/plain": [
       "      ┌─┐         \n",
       "q8_0: ┤M├─────────\n",
       "      └╥┘┌─┐      \n",
       "q8_1: ─╫─┤M├──────\n",
       "       ║ └╥┘┌─┐   \n",
       "q8_2: ─╫──╫─┤M├───\n",
       "       ║  ║ └╥┘┌─┐\n",
       "q8_3: ─╫──╫──╫─┤M├\n",
       "       ║  ║  ║ └╥┘\n",
       "c0: 4/═╩══╩══╩══╩═\n",
       "       0  1  2  3 "
      ]
     },
     "execution_count": 15,
     "metadata": {},
     "output_type": "execute_result"
    }
   ],
   "source": [
    "circ = QuantumCircuit(qr, cr)\n",
    "\n",
    "# Add gates to the circuit here\n",
    "\n",
    "# Measure the qubits\n",
    "circ.measure(qr, cr)\n",
    "\n",
    "# Draw the circuit\n",
    "circ.draw()"
   ]
  },
  {
   "cell_type": "code",
   "execution_count": 22,
   "id": "2a38a83c",
   "metadata": {},
   "outputs": [],
   "source": [
    "import pandas as pd\n",
    "import numpy as np\n",
    "import re\n",
    "from datetime import datetime\n",
    "import matplotlib.pyplot as plt\n",
    "import seaborn as sns"
   ]
  },
  {
   "cell_type": "code",
   "execution_count": 23,
   "id": "7f6abbaa",
   "metadata": {},
   "outputs": [],
   "source": [
    "\n",
    "from sklearn import metrics, preprocessing\n",
    "from tensorflow.keras import models, layers, utils"
   ]
  },
  {
   "cell_type": "code",
   "execution_count": 24,
   "id": "998b7414",
   "metadata": {},
   "outputs": [],
   "source": [
    "#data = pd.read_csv(r\"C:\\Users\\muthukumaran\\Desktop\\HDFC.csv\")\n",
    "dtf_products = pd.read_excel(r\"/Users/naveenraj/Desktop/Naveen/Project/data_movies.xlsx\", sheet_name=\"products\")\n",
    "#dtf_users = pd.read_excel(\"data_movies.xlsx\", sheet_name=\"users\").head(10000)"
   ]
  },
  {
   "cell_type": "code",
   "execution_count": 25,
   "id": "2e89f999",
   "metadata": {},
   "outputs": [],
   "source": [
    "dtf_users = pd.read_excel(\"data_movies.xlsx\", sheet_name=\"users\").head(10000)"
   ]
  },
  {
   "cell_type": "code",
   "execution_count": 26,
   "id": "46ca8d2b",
   "metadata": {},
   "outputs": [],
   "source": [
    "import pandas as pd\n",
    "from sklearn.feature_extraction.text import TfidfVectorizer\n",
    "from sklearn.metrics.pairwise import cosine_similarity"
   ]
  },
  {
   "cell_type": "code",
   "execution_count": 27,
   "id": "8e23eaf8",
   "metadata": {},
   "outputs": [],
   "source": [
    "from qiskit import QuantumRegister, ClassicalRegister, QuantumCircuit"
   ]
  }
 ],
 "metadata": {
  "kernelspec": {
   "display_name": "Python 3 (ipykernel)",
   "language": "python",
   "name": "python3"
  },
  "language_info": {
   "codemirror_mode": {
    "name": "ipython",
    "version": 3
   },
   "file_extension": ".py",
   "mimetype": "text/x-python",
   "name": "python",
   "nbconvert_exporter": "python",
   "pygments_lexer": "ipython3",
   "version": "3.11.3"
  }
 },
 "nbformat": 4,
 "nbformat_minor": 5
}
