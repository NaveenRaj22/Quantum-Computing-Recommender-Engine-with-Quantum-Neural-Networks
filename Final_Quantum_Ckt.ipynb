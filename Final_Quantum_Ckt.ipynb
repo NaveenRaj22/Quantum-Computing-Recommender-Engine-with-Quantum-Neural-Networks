{
 "cells": [
  {
   "cell_type": "code",
   "execution_count": 1,
   "id": "4e4126df",
   "metadata": {},
   "outputs": [],
   "source": [
    "from qiskit import QuantumRegister, ClassicalRegister, QuantumCircuit"
   ]
  },
  {
   "cell_type": "code",
   "execution_count": 2,
   "id": "1cd8551f",
   "metadata": {},
   "outputs": [],
   "source": [
    "# Define the quantum and classical registers\n",
    "qr = QuantumRegister(2) # Two qubits\n",
    "cr = ClassicalRegister(2) # Two bits"
   ]
  },
  {
   "cell_type": "markdown",
   "id": "76aff717",
   "metadata": {},
   "source": [
    "QuantumRegister defines the set of qubits you want to use in your circuit\n",
    "A ClassicalRegister represents the set of classical bits used for measuring the state of your qubits. Here, we've created a single classical register with two bits (\"cr\"). Just like with the qubits, you can define any number of classical bits based on the needs of your particular experiment or algorithm."
   ]
  },
  {
   "cell_type": "code",
   "execution_count": 3,
   "id": "5a5f73aa",
   "metadata": {},
   "outputs": [],
   "source": [
    "# Create a new circuit on these registries\n",
    "circ = QuantumCircuit(qr, cr)"
   ]
  },
  {
   "cell_type": "markdown",
   "id": "6d0969f8",
   "metadata": {},
   "source": [
    "The QuantumCircuit() constructor takes three arguments:\n",
    "* `quantum_registers`: A list of `qiskit.circuit.QuantumRegister` objects defining the qubits used by the circuit.\n",
    "* `classical_registers`: A list of `qiskit.circuit.ClassicalRegister` objects defining the classical bits used for measurements.\n",
    "* `name`: An optional name for the circuit.\n",
    "After creating a circuit instance, you can add gates and other elements to it using methods such as qc.x(), qc.h(), etc., which apply operations to individual qubits or groups of qubits. Once you are done building your circuit, you can run it on a real device or simulator using the execute() method."
   ]
  },
  {
   "cell_type": "code",
   "execution_count": 4,
   "id": "15391219",
   "metadata": {},
   "outputs": [
    {
     "data": {
      "text/plain": [
       "<qiskit.circuit.instructionset.InstructionSet at 0x10e1ec070>"
      ]
     },
     "execution_count": 4,
     "metadata": {},
     "output_type": "execute_result"
    }
   ],
   "source": [
    "# Apply H-gates to all qubits\n",
    "circ.h(qr)"
   ]
  },
  {
   "cell_type": "markdown",
   "id": "14236597",
   "metadata": {},
   "source": [
    "An H gate, also known as the Hadamard gate, has the effect of rotating the Bloch sphere vector corresponding to a given qubit counterclockwise around its axis by an angle of π/2. This transformation maps the computational basis states |0⟩ and |1⟩ onto their respective eigenstates √(|0>⊗∣1〉) and √(|0>⊗∣-1⟩), respectively. As a result, the H gate serves as a universal gate for performing superposition and entanglement operations. Additionally, the H gate plays a critical role in quantum algorithms for optimization, simulation, and machine learning."
   ]
  },
  {
   "cell_type": "code",
   "execution_count": 5,
   "id": "84d7987b",
   "metadata": {},
   "outputs": [
    {
     "data": {
      "text/plain": [
       "<qiskit.circuit.instructionset.InstructionSet at 0x10e1ec370>"
      ]
     },
     "execution_count": 5,
     "metadata": {},
     "output_type": "execute_result"
    }
   ],
   "source": [
    "# Do controlled-NOT gate between first and second qubit\n",
    "circ.cx(qr[0], qr[1])"
   ]
  },
  {
   "cell_type": "markdown",
   "id": "5d6997e5",
   "metadata": {},
   "source": [
    "A controlled-NOT (CNOT) gate flips the target qubit if the control qubit is in the state |1>. It is useful because it allows us to conditionally affect another qubit without having to measure the control qubit. For example, say we wanted to swap the values of two qubits. We could do so using two CNOT gates, one controlling the first qubit and the other controlling the second qubit. If the control qubits were initially in the state |00>, the first CNOT would flip the value of the first qubit, giving us |01>. Then, the second CNOT would only operate on the second qubit if the first was still in the state |1>, thus swapping their values."
   ]
  },
  {
   "cell_type": "code",
   "execution_count": 6,
   "id": "608b60a5",
   "metadata": {},
   "outputs": [
    {
     "data": {
      "text/plain": [
       "<qiskit.circuit.instructionset.InstructionSet at 0x10e1ec2e0>"
      ]
     },
     "execution_count": 6,
     "metadata": {},
     "output_type": "execute_result"
    }
   ],
   "source": [
    "# Measure the qubits\n",
    "circ.measure(qr, cr)"
   ]
  },
  {
   "cell_type": "code",
   "execution_count": 7,
   "id": "1d90d034",
   "metadata": {},
   "outputs": [
    {
     "data": {
      "text/html": [
       "<pre style=\"word-wrap: normal;white-space: pre;background: #fff0;line-height: 1.1;font-family: &quot;Courier New&quot;,Courier,monospace\">      ┌───┐     ┌─┐   \n",
       "q0_0: ┤ H ├──■──┤M├───\n",
       "      ├───┤┌─┴─┐└╥┘┌─┐\n",
       "q0_1: ┤ H ├┤ X ├─╫─┤M├\n",
       "      └───┘└───┘ ║ └╥┘\n",
       "c0: 2/═══════════╩══╩═\n",
       "                 0  1 </pre>"
      ],
      "text/plain": [
       "      ┌───┐     ┌─┐   \n",
       "q0_0: ┤ H ├──■──┤M├───\n",
       "      ├───┤┌─┴─┐└╥┘┌─┐\n",
       "q0_1: ┤ H ├┤ X ├─╫─┤M├\n",
       "      └───┘└───┘ ║ └╥┘\n",
       "c0: 2/═══════════╩══╩═\n",
       "                 0  1 "
      ]
     },
     "execution_count": 7,
     "metadata": {},
     "output_type": "execute_result"
    }
   ],
   "source": [
    "# Draw the circuit\n",
    "circ.draw()"
   ]
  },
  {
   "cell_type": "markdown",
   "id": "4ace9d52",
   "metadata": {},
   "source": [
    "This creates a circuit that applies an H-gate to each of two qubits, then does a CNOT (controlled NOT) gate between the first and second qubits using a control bit, and finally measures both qubits in the standard way. The resulting circuit looks like above where M denotes measurement outcomes."
   ]
  }
 ],
 "metadata": {
  "kernelspec": {
   "display_name": "Python 3 (ipykernel)",
   "language": "python",
   "name": "python3"
  },
  "language_info": {
   "codemirror_mode": {
    "name": "ipython",
    "version": 3
   },
   "file_extension": ".py",
   "mimetype": "text/x-python",
   "name": "python",
   "nbconvert_exporter": "python",
   "pygments_lexer": "ipython3",
   "version": "3.11.3"
  }
 },
 "nbformat": 4,
 "nbformat_minor": 5
}
